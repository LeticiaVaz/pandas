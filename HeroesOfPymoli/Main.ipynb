{
 "cells": [
  {
   "cell_type": "code",
   "execution_count": 50,
   "metadata": {},
   "outputs": [],
   "source": [
    "import pandas as pd"
   ]
  },
  {
   "cell_type": "code",
   "execution_count": 51,
   "metadata": {},
   "outputs": [],
   "source": [
    "HeroesOfPymoli = '../Resources/purchase_data.csv'\n",
    "Heroes_file = pd.read_csv(HeroesOfPymoli)"
   ]
  },
  {
   "cell_type": "code",
   "execution_count": 52,
   "metadata": {},
   "outputs": [
    {
     "data": {
      "text/html": "<div>\n<style scoped>\n    .dataframe tbody tr th:only-of-type {\n        vertical-align: middle;\n    }\n\n    .dataframe tbody tr th {\n        vertical-align: top;\n    }\n\n    .dataframe thead th {\n        text-align: right;\n    }\n</style>\n<table border=\"1\" class=\"dataframe\">\n  <thead>\n    <tr style=\"text-align: right;\">\n      <th></th>\n      <th>Total Players</th>\n    </tr>\n  </thead>\n  <tbody>\n    <tr>\n      <td>0</td>\n      <td>780</td>\n    </tr>\n  </tbody>\n</table>\n</div>",
      "text/plain": "   Total Players\n0            780"
     },
     "execution_count": 52,
     "metadata": {},
     "output_type": "execute_result"
    }
   ],
   "source": [
    "### Player Count\n",
    "#* Total Number of Players\n",
    "players = {'Total Players': [Heroes_file['SN'].count()]}\n",
    "players_count = pd.DataFrame(players)\n",
    "players_count"
   ]
  },
  {
   "cell_type": "markdown",
   "execution_count": 4,
   "metadata": {},
   "outputs": [],
   "source": [
    "   \n",
    "##    Purchasing Analysis (Gender)\n"
   ]
  },
  {
   "cell_type": "code",
   "execution_count": 53,
   "metadata": {},
   "outputs": [],
   "source": [
    "#Number of Unique Items\n",
    "Price_Average=Heroes_file[\"Price\"].mean()"
   ]
  },
  {
   "cell_type": "code",
   "execution_count": 54,
   "metadata": {},
   "outputs": [],
   "source": [
    "#Average Purchase Price\n",
    "n_items = Heroes_file[\"Item Name\"].nunique()"
   ]
  },
  {
   "cell_type": "code",
   "execution_count": 55,
   "metadata": {},
   "outputs": [],
   "source": [
    "#Total Number of Purchases\n",
    "N_of_items = Heroes_file[\"Item Name\"].count()"
   ]
  },
  {
   "cell_type": "code",
   "execution_count": 56,
   "metadata": {},
   "outputs": [],
   "source": [
    "#Total Revenue\n",
    "Profit = Heroes_file[\"Price\"].sum()"
   ]
  },
  {
   "cell_type": "code",
   "execution_count": 57,
   "metadata": {},
   "outputs": [],
   "source": [
    "Sumamry_list ={\"Number of Unique Items\":n_items,\n",
    "                           \"Average Price\":Price_Average,\n",
    "                           \"Number of Purchases\":N_of_items, \n",
    "                           \"Total Revenue\":Profit}\n",
    "\n"
   ]
  },
  {
   "cell_type": "code",
   "execution_count": 58,
   "metadata": {},
   "outputs": [
    {
     "data": {
      "text/html": "<div>\n<style scoped>\n    .dataframe tbody tr th:only-of-type {\n        vertical-align: middle;\n    }\n\n    .dataframe tbody tr th {\n        vertical-align: top;\n    }\n\n    .dataframe thead th {\n        text-align: right;\n    }\n</style>\n<table border=\"1\" class=\"dataframe\">\n  <thead>\n    <tr style=\"text-align: right;\">\n      <th></th>\n      <th>Number of Unique Items</th>\n      <th>Average Price</th>\n      <th>Number of Purchases</th>\n      <th>Total Revenue</th>\n    </tr>\n  </thead>\n  <tbody>\n    <tr>\n      <td>0</td>\n      <td>179</td>\n      <td>$3.05</td>\n      <td>780</td>\n      <td>$2379.77</td>\n    </tr>\n  </tbody>\n</table>\n</div>",
      "text/plain": "   Number of Unique Items Average Price  Number of Purchases Total Revenue\n0                     179         $3.05                  780      $2379.77"
     },
     "execution_count": 58,
     "metadata": {},
     "output_type": "execute_result"
    }
   ],
   "source": [
    "Summary_df=pd.DataFrame([Sumamry_list])\n",
    "Summary_df[\"Average Price\"] = Summary_df[\"Average Price\"].astype(float).map('${:.2f}'.format)\n",
    "Summary_df[\"Total Revenue\"] = Summary_df[\"Total Revenue\"].astype(float).map('${:.2f}'.format)\n",
    "Summary_df"
   ]
  },
  {
   "cell_type": "markdown",
   "execution_count": 10,
   "metadata": {},
   "outputs": [],
   "source": [
    "\n",
    "## Gender Demographics\n"
   ]
  },
  {
   "cell_type": "code",
   "execution_count": 59,
   "metadata": {},
   "outputs": [],
   "source": [
    "gender_type = Heroes_file.loc[:,\"Gender\"]"
   ]
  },
  {
   "cell_type": "code",
   "execution_count": 60,
   "metadata": {},
   "outputs": [],
   "source": [
    "Gender_count = Heroes_file.groupby(\"Gender\")[\"SN\"].count()"
   ]
  },
  {
   "cell_type": "code",
   "execution_count": 61,
   "metadata": {},
   "outputs": [],
   "source": [
    "player_demographics = Heroes_file.loc[:, [\"Gender\", \"SN\", \"Age\"]]"
   ]
  },
  {
   "cell_type": "code",
   "execution_count": 62,
   "metadata": {},
   "outputs": [],
   "source": [
    "player_demographics = player_demographics.drop_duplicates()\n",
    "\n",
    "num_players = player_demographics.count()[0]"
   ]
  },
  {
   "cell_type": "code",
   "execution_count": 63,
   "metadata": {},
   "outputs": [],
   "source": [
    "gender_demographics_totals = player_demographics[\"Gender\"].value_counts()\n",
    "gender_demographics_percents = gender_demographics_totals / num_players * 100\n"
   ]
  },
  {
   "cell_type": "code",
   "execution_count": 64,
   "metadata": {},
   "outputs": [
    {
     "data": {
      "text/html": "<div>\n<style scoped>\n    .dataframe tbody tr th:only-of-type {\n        vertical-align: middle;\n    }\n\n    .dataframe tbody tr th {\n        vertical-align: top;\n    }\n\n    .dataframe thead th {\n        text-align: right;\n    }\n</style>\n<table border=\"1\" class=\"dataframe\">\n  <thead>\n    <tr style=\"text-align: right;\">\n      <th></th>\n      <th>Total Count</th>\n      <th>Percentage of Players</th>\n    </tr>\n  </thead>\n  <tbody>\n    <tr>\n      <td>Male</td>\n      <td>484</td>\n      <td>84.03%</td>\n    </tr>\n    <tr>\n      <td>Female</td>\n      <td>81</td>\n      <td>14.06%</td>\n    </tr>\n    <tr>\n      <td>Other / Non-Disclosed</td>\n      <td>11</td>\n      <td>1.91%</td>\n    </tr>\n  </tbody>\n</table>\n</div>",
      "text/plain": "                       Total Count Percentage of Players\nMale                           484                84.03%\nFemale                          81                14.06%\nOther / Non-Disclosed           11                 1.91%"
     },
     "execution_count": 64,
     "metadata": {},
     "output_type": "execute_result"
    }
   ],
   "source": [
    "gender_demographics = pd.DataFrame({\"Total Count\": gender_demographics_totals,\n",
    "                                    \"Percentage of Players\": gender_demographics_percents})\n",
    "gender_demographics = gender_demographics.round(2)\n",
    "gender_demographics[\"Percentage of Players\"] = gender_demographics[\"Percentage of Players\"].astype(float).map('{:.2f}%'.format)\n",
    "gender_demographics"
   ]
  },
  {
   "cell_type": "markdown",
   "execution_count": 1,
   "metadata": {},
   "outputs": [],
   "source": [
    "\n",
    "## Purchasing Analysis (Gender)\n"
   ]
  },
  {
   "cell_type": "code",
   "execution_count": 65,
   "metadata": {},
   "outputs": [],
   "source": [
    "purchasing_analysis = Heroes_file.loc[:, [\"Gender\", \"Price\"]]"
   ]
  },
  {
   "cell_type": "code",
   "execution_count": 66,
   "metadata": {},
   "outputs": [],
   "source": [
    "###Calculate total profit by gender\n",
    "total_purchase_value=purchasing_analysis.groupby([\"Gender\"]).sum()['Price'].rename(\"Total Purchase Value\")"
   ]
  },
  {
   "cell_type": "code",
   "execution_count": 67,
   "metadata": {},
   "outputs": [],
   "source": [
    "#calculate average price by gender\n",
    "Gender_average=Heroes_file.groupby([\"Gender\"]).mean()['Price'].rename(\"Average Purchase Price\")"
   ]
  },
  {
   "cell_type": "code",
   "execution_count": 68,
   "metadata": {},
   "outputs": [],
   "source": [
    "###count orders\n",
    "#Gender_count=Heroes_file.groupby([\"Gender\"]).count()['Price'].rename(\"Purchase Count\")\n",
    "\n",
    "gender_counts = player_demographics[\"Gender\"].value_counts()"
   ]
  },
  {
   "cell_type": "code",
   "execution_count": 69,
   "metadata": {},
   "outputs": [],
   "source": [
    "# Delete Duplicates\n",
    "duplicates = Heroes_file.drop_duplicates(subset='SN', keep=\"first\")\n",
    "grouped_dup = duplicates.groupby([\"Gender\"])"
   ]
  },
  {
   "cell_type": "code",
   "execution_count": 70,
   "metadata": {},
   "outputs": [],
   "source": [
    "average_purchages = (total_purchase_value/grouped_dup[\"SN\"].count())"
   ]
  },
  {
   "cell_type": "code",
   "execution_count": 71,
   "metadata": {},
   "outputs": [],
   "source": [
    "Summary_Purchasing_Analysis = pd.DataFrame({\"Purchase Count\":Gender_count,\n",
    "                           \"Average Purchase Price\":Gender_average,\n",
    "                            \"Total Purchase Value\":total_purchase_value,\n",
    "                            \"Avg Total Purchase per Person\":average_purchages})"
   ]
  },
  {
   "cell_type": "code",
   "execution_count": 72,
   "metadata": {},
   "outputs": [],
   "source": [
    "#formating DataFrame\n",
    "Summary_Purchasing_Analysis[\"Average Purchase Price\"] = Summary_Purchasing_Analysis[\"Average Purchase Price\"].astype(float).map('${:.2f}'.format)\n",
    "Summary_Purchasing_Analysis[\"Avg Total Purchase per Person\"] = Summary_Purchasing_Analysis[\"Avg Total Purchase per Person\"].astype(float).map('${:.2f}'.format)"
   ]
  },
  {
   "cell_type": "code",
   "execution_count": 73,
   "metadata": {},
   "outputs": [
    {
     "data": {
      "text/html": "<div>\n<style scoped>\n    .dataframe tbody tr th:only-of-type {\n        vertical-align: middle;\n    }\n\n    .dataframe tbody tr th {\n        vertical-align: top;\n    }\n\n    .dataframe thead th {\n        text-align: right;\n    }\n</style>\n<table border=\"1\" class=\"dataframe\">\n  <thead>\n    <tr style=\"text-align: right;\">\n      <th></th>\n      <th>Purchase Count</th>\n      <th>Average Purchase Price</th>\n      <th>Total Purchase Value</th>\n      <th>Avg Total Purchase per Person</th>\n    </tr>\n    <tr>\n      <th>Gender</th>\n      <th></th>\n      <th></th>\n      <th></th>\n      <th></th>\n    </tr>\n  </thead>\n  <tbody>\n    <tr>\n      <td>Female</td>\n      <td>113</td>\n      <td>$3.20</td>\n      <td>361.94</td>\n      <td>$4.47</td>\n    </tr>\n    <tr>\n      <td>Male</td>\n      <td>652</td>\n      <td>$3.02</td>\n      <td>1967.64</td>\n      <td>$4.07</td>\n    </tr>\n    <tr>\n      <td>Other / Non-Disclosed</td>\n      <td>15</td>\n      <td>$3.35</td>\n      <td>50.19</td>\n      <td>$4.56</td>\n    </tr>\n  </tbody>\n</table>\n</div>",
      "text/plain": "                       Purchase Count Average Purchase Price  \\\nGender                                                         \nFemale                            113                  $3.20   \nMale                              652                  $3.02   \nOther / Non-Disclosed              15                  $3.35   \n\n                       Total Purchase Value Avg Total Purchase per Person  \nGender                                                                     \nFemale                               361.94                         $4.47  \nMale                                1967.64                         $4.07  \nOther / Non-Disclosed                 50.19                         $4.56  "
     },
     "execution_count": 73,
     "metadata": {},
     "output_type": "execute_result"
    }
   ],
   "source": [
    "Summary_Purchasing_Analysis"
   ]
  },
  {
   "cell_type": "markdown",
   "execution_count": 25,
   "metadata": {},
   "outputs": [],
   "source": [
    "\n",
    "## Age Demographics\n"
   ]
  },
  {
   "cell_type": "code",
   "execution_count": 74,
   "metadata": {},
   "outputs": [],
   "source": [
    "#Data Frame to work with Bins\n",
    "Age_demographics = Heroes_file.loc[:, [\"Age\", \"SN\", \"Price\"]]\n",
    "df = pd.DataFrame(Age_demographics)"
   ]
  },
  {
   "cell_type": "code",
   "execution_count": 75,
   "metadata": {},
   "outputs": [],
   "source": [
    "#bins group\n",
    "age_bins = [0, 13,24,36,40]\n",
    "group_names = [\"Less than 13\", \"13 to 24\", \"25 to 36\", \"More than 36\"]\n",
    "df[\"Age Ranges\"] = pd.cut(df[\"Age\"], age_bins, labels=group_names)\n"
   ]
  },
  {
   "cell_type": "code",
   "execution_count": 76,
   "metadata": {},
   "outputs": [],
   "source": [
    "#Purchase revenue\n",
    "Purchase_amount=df.groupby([\"Age Ranges\"]).sum()['Price'].rename(\"2.Total Purchase Value\")"
   ]
  },
  {
   "cell_type": "code",
   "execution_count": 77,
   "metadata": {},
   "outputs": [],
   "source": [
    "#Average Purchase Price\n",
    "average_price = df.groupby([\"Age Ranges\"])['Price'].mean().rename(\"2.Average Purchase Price\")\n"
   ]
  },
  {
   "cell_type": "code",
   "execution_count": 78,
   "metadata": {},
   "outputs": [],
   "source": [
    "#Purchase Count\n",
    "Purchase_Count  = Age_demographics.groupby([\"Age Ranges\"])[\"SN\"].count().rename(\"2.Purchase Count\")"
   ]
  },
  {
   "cell_type": "code",
   "execution_count": 79,
   "metadata": {},
   "outputs": [],
   "source": [
    "### Age Demographics\n",
    "Summary_Age_Demographics = pd.DataFrame({\"Purchase Count\":Purchase_Count,\n",
    "                           \"Average Purchase Price\":average_price,\n",
    "                           \"Total Purchase Value\":Purchase_amount})\n",
    "\n"
   ]
  },
  {
   "cell_type": "code",
   "execution_count": 80,
   "metadata": {},
   "outputs": [
    {
     "data": {
      "text/html": "<div>\n<style scoped>\n    .dataframe tbody tr th:only-of-type {\n        vertical-align: middle;\n    }\n\n    .dataframe tbody tr th {\n        vertical-align: top;\n    }\n\n    .dataframe thead th {\n        text-align: right;\n    }\n</style>\n<table border=\"1\" class=\"dataframe\">\n  <thead>\n    <tr style=\"text-align: right;\">\n      <th></th>\n      <th>Purchase Count</th>\n      <th>Average Purchase Price</th>\n      <th>Total Purchase Value</th>\n    </tr>\n    <tr>\n      <th>Age Ranges</th>\n      <th></th>\n      <th></th>\n      <th></th>\n    </tr>\n  </thead>\n  <tbody>\n    <tr>\n      <td>Less than 13</td>\n      <td>49</td>\n      <td>$3.12</td>\n      <td>$153.00</td>\n    </tr>\n    <tr>\n      <td>13 to 24</td>\n      <td>503</td>\n      <td>$3.05</td>\n      <td>$1533.86</td>\n    </tr>\n    <tr>\n      <td>25 to 36</td>\n      <td>193</td>\n      <td>$2.96</td>\n      <td>$571.69</td>\n    </tr>\n    <tr>\n      <td>More than 36</td>\n      <td>28</td>\n      <td>$3.56</td>\n      <td>$99.69</td>\n    </tr>\n  </tbody>\n</table>\n</div>",
      "text/plain": "              Purchase Count Average Purchase Price Total Purchase Value\nAge Ranges                                                              \nLess than 13              49                  $3.12              $153.00\n13 to 24                 503                  $3.05             $1533.86\n25 to 36                 193                  $2.96              $571.69\nMore than 36              28                  $3.56               $99.69"
     },
     "execution_count": 80,
     "metadata": {},
     "output_type": "execute_result"
    }
   ],
   "source": [
    "#formating DataFrame\n",
    "Summary_Age_Demographics[\"Total Purchase Value\"] = Summary_Age_Demographics[\"Total Purchase Value\"].astype(float).map('${:.2f}'.format)\n",
    "Summary_Age_Demographics[\"Average Purchase Price\"] = Summary_Age_Demographics[\"Average Purchase Price\"].astype(float).map('${:.2f}'.format)\n",
    "\n",
    "\n",
    "Summary_Age_Demographics"
   ]
  },
  {
   "cell_type": "markdown",
   "execution_count": 32,
   "metadata": {},
   "outputs": [],
   "source": [
    "##  Top Spenders\n"
   ]
  },
  {
   "cell_type": "code",
   "execution_count": 81,
   "metadata": {},
   "outputs": [],
   "source": [
    "#Group by \"SN\" to set up the DataFrame for Top Spenders\n",
    "top_spenders = Heroes_file.groupby(\"SN\")"
   ]
  },
  {
   "cell_type": "code",
   "execution_count": 82,
   "metadata": {},
   "outputs": [],
   "source": [
    "#Create calculations for the DataFrame\n",
    "purchase_count_top = top_spenders[\"Purchase ID\"].count()\n",
    "avg_purchase_price_top = top_spenders[\"Price\"].mean()\n",
    "total_purchase_value_top = top_spenders[\"Price\"].sum()"
   ]
  },
  {
   "cell_type": "code",
   "execution_count": 83,
   "metadata": {},
   "outputs": [],
   "source": [
    "#Create DataFrame for Top Spenders\n",
    "top_spenders_df = pd.DataFrame({\"Purchase Count\": purchase_count_top, \"Average Purchase Price\": avg_purchase_price_top, \"Total Purchase Value\":total_purchase_value_top})\n"
   ]
  },
  {
   "cell_type": "code",
   "execution_count": 84,
   "metadata": {},
   "outputs": [],
   "source": [
    "#Sort top spenders in decending order\n",
    "top_spenders_format = top_spenders_df.sort_values([\"Total Purchase Value\"], ascending=False)"
   ]
  },
  {
   "cell_type": "code",
   "execution_count": 85,
   "metadata": {},
   "outputs": [
    {
     "data": {
      "text/html": "<div>\n<style scoped>\n    .dataframe tbody tr th:only-of-type {\n        vertical-align: middle;\n    }\n\n    .dataframe tbody tr th {\n        vertical-align: top;\n    }\n\n    .dataframe thead th {\n        text-align: right;\n    }\n</style>\n<table border=\"1\" class=\"dataframe\">\n  <thead>\n    <tr style=\"text-align: right;\">\n      <th></th>\n      <th>Purchase Count</th>\n      <th>Average Purchase Price</th>\n      <th>Total Purchase Value</th>\n    </tr>\n    <tr>\n      <th>SN</th>\n      <th></th>\n      <th></th>\n      <th></th>\n    </tr>\n  </thead>\n  <tbody>\n    <tr>\n      <td>Lisosia93</td>\n      <td>5</td>\n      <td>$3.79</td>\n      <td>$18.96</td>\n    </tr>\n    <tr>\n      <td>Idastidru52</td>\n      <td>4</td>\n      <td>$3.86</td>\n      <td>$15.45</td>\n    </tr>\n    <tr>\n      <td>Chamjask73</td>\n      <td>3</td>\n      <td>$4.61</td>\n      <td>$13.83</td>\n    </tr>\n    <tr>\n      <td>Iral74</td>\n      <td>4</td>\n      <td>$3.40</td>\n      <td>$13.62</td>\n    </tr>\n    <tr>\n      <td>Iskadarya95</td>\n      <td>3</td>\n      <td>$4.37</td>\n      <td>$13.10</td>\n    </tr>\n  </tbody>\n</table>\n</div>",
      "text/plain": "             Purchase Count Average Purchase Price Total Purchase Value\nSN                                                                     \nLisosia93                 5                  $3.79               $18.96\nIdastidru52               4                  $3.86               $15.45\nChamjask73                3                  $4.61               $13.83\nIral74                    4                  $3.40               $13.62\nIskadarya95               3                  $4.37               $13.10"
     },
     "execution_count": 85,
     "metadata": {},
     "output_type": "execute_result"
    }
   ],
   "source": [
    "#Format the data\n",
    "top_spenders_format[\"Average Purchase Price\"] = top_spenders_format[\"Average Purchase Price\"].astype(float).map('${:.2f}'.format)\n",
    "top_spenders_format[\"Total Purchase Value\"] = top_spenders_format[\"Total Purchase Value\"].astype(float).map('${:.2f}'.format)\n",
    "top_spenders_format.head()\n"
   ]
  },
  {
   "cell_type": "markdown",
   "execution_count": 37,
   "metadata": {},
   "outputs": [],
   "source": [
    "\n",
    "## Most popular item\n"
   ]
  },
  {
   "cell_type": "code",
   "execution_count": 86,
   "metadata": {},
   "outputs": [],
   "source": [
    "#Create new DataFrame with Popular Items data\n",
    "popular_items = Heroes_file[[\"Item ID\", \"Item Name\", \"Price\"]]"
   ]
  },
  {
   "cell_type": "code",
   "execution_count": 87,
   "metadata": {},
   "outputs": [],
   "source": [
    "popular_items_group = popular_items.groupby([\"Item ID\", \"Item Name\"])"
   ]
  },
  {
   "cell_type": "code",
   "execution_count": 88,
   "metadata": {},
   "outputs": [],
   "source": [
    "purchase_count_pop = popular_items_group[\"Price\"].count()"
   ]
  },
  {
   "cell_type": "code",
   "execution_count": 89,
   "metadata": {},
   "outputs": [],
   "source": [
    "purchase_value_pop = popular_items_group[\"Price\"].unique()"
   ]
  },
  {
   "cell_type": "code",
   "execution_count": 90,
   "metadata": {},
   "outputs": [],
   "source": [
    "popular_price = purchase_value_pop * purchase_count_pop"
   ]
  },
  {
   "cell_type": "code",
   "execution_count": 91,
   "metadata": {},
   "outputs": [],
   "source": [
    "#Table for DataFrame\n",
    "popular_df = pd.DataFrame({\"Purchase Count\": purchase_count_pop, \"Item Price\": purchase_value_pop, \"Total Purchase Value\": popular_price})"
   ]
  },
  {
   "cell_type": "code",
   "execution_count": 92,
   "metadata": {},
   "outputs": [],
   "source": [
    "#Purchases format - Descending\n",
    "popular_df = popular_df.sort_values([\"Purchase Count\"], ascending=False)"
   ]
  },
  {
   "cell_type": "code",
   "execution_count": 93,
   "metadata": {},
   "outputs": [],
   "source": [
    "# Format / Clean table as needed\n",
    "popular_df[\"Total Purchase Value\"] = popular_df[\"Total Purchase Value\"].astype(float).map('${:.2f}'.format)\n",
    "popular_df[\"Item Price\"] = popular_df[\"Item Price\"].astype(float).map('${:.2f}'.format)\n"
   ]
  },
  {
   "cell_type": "code",
   "execution_count": 94,
   "metadata": {},
   "outputs": [
    {
     "data": {
      "text/html": "<div>\n<style scoped>\n    .dataframe tbody tr th:only-of-type {\n        vertical-align: middle;\n    }\n\n    .dataframe tbody tr th {\n        vertical-align: top;\n    }\n\n    .dataframe thead th {\n        text-align: right;\n    }\n</style>\n<table border=\"1\" class=\"dataframe\">\n  <thead>\n    <tr style=\"text-align: right;\">\n      <th></th>\n      <th></th>\n      <th>Purchase Count</th>\n      <th>Item Price</th>\n      <th>Total Purchase Value</th>\n    </tr>\n    <tr>\n      <th>Item ID</th>\n      <th>Item Name</th>\n      <th></th>\n      <th></th>\n      <th></th>\n    </tr>\n  </thead>\n  <tbody>\n    <tr>\n      <td>178</td>\n      <td>Oathbreaker, Last Hope of the Breaking Storm</td>\n      <td>12</td>\n      <td>$4.23</td>\n      <td>$50.76</td>\n    </tr>\n    <tr>\n      <td>145</td>\n      <td>Fiery Glass Crusader</td>\n      <td>9</td>\n      <td>$4.58</td>\n      <td>$41.22</td>\n    </tr>\n    <tr>\n      <td>108</td>\n      <td>Extraction, Quickblade Of Trembling Hands</td>\n      <td>9</td>\n      <td>$3.53</td>\n      <td>$31.77</td>\n    </tr>\n    <tr>\n      <td>82</td>\n      <td>Nirvana</td>\n      <td>9</td>\n      <td>$4.90</td>\n      <td>$44.10</td>\n    </tr>\n    <tr>\n      <td>19</td>\n      <td>Pursuit, Cudgel of Necromancy</td>\n      <td>8</td>\n      <td>$1.02</td>\n      <td>$8.16</td>\n    </tr>\n  </tbody>\n</table>\n</div>",
      "text/plain": "                                                      Purchase Count  \\\nItem ID Item Name                                                      \n178     Oathbreaker, Last Hope of the Breaking Storm              12   \n145     Fiery Glass Crusader                                       9   \n108     Extraction, Quickblade Of Trembling Hands                  9   \n82      Nirvana                                                    9   \n19      Pursuit, Cudgel of Necromancy                              8   \n\n                                                     Item Price  \\\nItem ID Item Name                                                 \n178     Oathbreaker, Last Hope of the Breaking Storm      $4.23   \n145     Fiery Glass Crusader                              $4.58   \n108     Extraction, Quickblade Of Trembling Hands         $3.53   \n82      Nirvana                                           $4.90   \n19      Pursuit, Cudgel of Necromancy                     $1.02   \n\n                                                     Total Purchase Value  \nItem ID Item Name                                                          \n178     Oathbreaker, Last Hope of the Breaking Storm               $50.76  \n145     Fiery Glass Crusader                                       $41.22  \n108     Extraction, Quickblade Of Trembling Hands                  $31.77  \n82      Nirvana                                                    $44.10  \n19      Pursuit, Cudgel of Necromancy                               $8.16  "
     },
     "execution_count": 94,
     "metadata": {},
     "output_type": "execute_result"
    }
   ],
   "source": [
    "popular_df.head()"
   ]
  },
  {
   "cell_type": "markdown",
   "execution_count": 73,
   "metadata": {},
   "outputs": [],
   "source": [
    "## Most profitable item"
   ]
  },
  {
   "cell_type": "code",
   "execution_count": 95,
   "metadata": {},
   "outputs": [
    {
     "data": {
      "text/html": "<div>\n<style scoped>\n    .dataframe tbody tr th:only-of-type {\n        vertical-align: middle;\n    }\n\n    .dataframe tbody tr th {\n        vertical-align: top;\n    }\n\n    .dataframe thead th {\n        text-align: right;\n    }\n</style>\n<table border=\"1\" class=\"dataframe\">\n  <thead>\n    <tr style=\"text-align: right;\">\n      <th></th>\n      <th></th>\n      <th>Purchase Count</th>\n      <th>Item Price</th>\n      <th>Total Purchase Value</th>\n    </tr>\n    <tr>\n      <th>Item ID</th>\n      <th>Item Name</th>\n      <th></th>\n      <th></th>\n      <th></th>\n    </tr>\n  </thead>\n  <tbody>\n    <tr>\n      <td>63</td>\n      <td>Stormfury Mace</td>\n      <td>2</td>\n      <td>$4.99</td>\n      <td>$9.98</td>\n    </tr>\n    <tr>\n      <td>29</td>\n      <td>Chaos, Ender of the End</td>\n      <td>5</td>\n      <td>$1.98</td>\n      <td>$9.90</td>\n    </tr>\n    <tr>\n      <td>173</td>\n      <td>Stormfury Longsword</td>\n      <td>2</td>\n      <td>$4.93</td>\n      <td>$9.86</td>\n    </tr>\n    <tr>\n      <td>1</td>\n      <td>Crucifer</td>\n      <td>3</td>\n      <td>$3.26</td>\n      <td>$9.78</td>\n    </tr>\n    <tr>\n      <td>38</td>\n      <td>The Void, Vengeance of Dark Magic</td>\n      <td>4</td>\n      <td>$2.37</td>\n      <td>$9.48</td>\n    </tr>\n  </tbody>\n</table>\n</div>",
      "text/plain": "                                           Purchase Count Item Price  \\\nItem ID Item Name                                                      \n63      Stormfury Mace                                  2      $4.99   \n29      Chaos, Ender of the End                         5      $1.98   \n173     Stormfury Longsword                             2      $4.93   \n1       Crucifer                                        3      $3.26   \n38      The Void, Vengeance of Dark Magic               4      $2.37   \n\n                                          Total Purchase Value  \nItem ID Item Name                                               \n63      Stormfury Mace                                   $9.98  \n29      Chaos, Ender of the End                          $9.90  \n173     Stormfury Longsword                              $9.86  \n1       Crucifer                                         $9.78  \n38      The Void, Vengeance of Dark Magic                $9.48  "
     },
     "execution_count": 95,
     "metadata": {},
     "output_type": "execute_result"
    }
   ],
   "source": [
    "#Profit format - Descending\n",
    "\n",
    "profit_df = popular_df.sort_values([\"Total Purchase Value\"], ascending=False)\n",
    "profit_df.head()"
   ]
  },
  {
   "cell_type": "code",
   "execution_count": null,
   "metadata": {},
   "outputs": [],
   "source": []
  }
 ],
 "metadata": {
  "file_extension": ".py",
  "kernelspec": {
   "display_name": "Python 3.7.4 64-bit ('base': conda)",
   "language": "python",
   "name": "python37464bitbaseconda34ae4e6a184940cdb4d3f02b652ca6b7"
  },
  "language_info": {
   "codemirror_mode": {
    "name": "ipython",
    "version": 3
   },
   "file_extension": ".py",
   "mimetype": "text/x-python",
   "name": "python",
   "nbconvert_exporter": "python",
   "pygments_lexer": "ipython3",
   "version": "3.7.4-final"
  },
  "mimetype": "text/x-python",
  "name": "python",
  "npconvert_exporter": "python",
  "pygments_lexer": "ipython3",
  "version": 3
 },
 "nbformat": 4,
 "nbformat_minor": 2
}